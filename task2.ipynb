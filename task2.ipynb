{
 "cells": [
  {
   "cell_type": "code",
   "execution_count": 6,
   "id": "8ebe9b6c",
   "metadata": {},
   "outputs": [],
   "source": [
    "import math\n",
    "from scipy.optimize import differential_evolution, minimize"
   ]
  },
  {
   "cell_type": "code",
   "execution_count": 2,
   "id": "8b83357f",
   "metadata": {},
   "outputs": [],
   "source": [
    "def f(x):\n",
    "    return math.sin(x/5.) * math.exp(x/10.) + 5 * math.exp((-x)/2.)"
   ]
  },
  {
   "cell_type": "code",
   "execution_count": 7,
   "id": "9748c69d",
   "metadata": {},
   "outputs": [
    {
     "name": "stdout",
     "output_type": "stream",
     "text": [
      "     fun: -11.89889466595201\n",
      "     jac: array([6.03961275e-06])\n",
      " message: 'Optimization terminated successfully.'\n",
      "    nfev: 111\n",
      "     nit: 6\n",
      " success: True\n",
      "       x: array([25.88020296])\n"
     ]
    }
   ],
   "source": [
    "bounds = [(1, 30)]\n",
    "print(differential_evolution(f, bounds))"
   ]
  },
  {
   "cell_type": "code",
   "execution_count": 8,
   "id": "10f5dac6",
   "metadata": {},
   "outputs": [],
   "source": [
    "def f2(x): return int(f(x))"
   ]
  },
  {
   "cell_type": "code",
   "execution_count": 9,
   "id": "1796858e",
   "metadata": {},
   "outputs": [
    {
     "name": "stdout",
     "output_type": "stream",
     "text": [
      "      fun: -5\n",
      " hess_inv: array([[1]])\n",
      "      jac: array([0.])\n",
      "  message: 'Optimization terminated successfully.'\n",
      "     nfev: 2\n",
      "      nit: 0\n",
      "     njev: 1\n",
      "   status: 0\n",
      "  success: True\n",
      "        x: array([30.])\n"
     ]
    }
   ],
   "source": [
    "print(minimize(f2, 30, method = 'BFGS'))"
   ]
  },
  {
   "cell_type": "code",
   "execution_count": 10,
   "id": "596bd180",
   "metadata": {},
   "outputs": [
    {
     "name": "stdout",
     "output_type": "stream",
     "text": [
      "     fun: -11.0\n",
      " message: 'Optimization terminated successfully.'\n",
      "    nfev: 77\n",
      "     nit: 4\n",
      " success: True\n",
      "       x: array([25.33945257])\n"
     ]
    }
   ],
   "source": [
    "print(differential_evolution(f2, bounds))"
   ]
  }
 ],
 "metadata": {
  "kernelspec": {
   "display_name": "Python 3",
   "language": "python",
   "name": "python3"
  },
  "language_info": {
   "codemirror_mode": {
    "name": "ipython",
    "version": 3
   },
   "file_extension": ".py",
   "mimetype": "text/x-python",
   "name": "python",
   "nbconvert_exporter": "python",
   "pygments_lexer": "ipython3",
   "version": "3.8.8"
  }
 },
 "nbformat": 4,
 "nbformat_minor": 5
}
