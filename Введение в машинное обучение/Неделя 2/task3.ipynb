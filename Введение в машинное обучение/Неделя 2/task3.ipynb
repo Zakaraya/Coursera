{
 "cells": [
  {
   "cell_type": "code",
   "execution_count": 27,
   "id": "d2d1086e",
   "metadata": {},
   "outputs": [],
   "source": [
    "import pandas as pd\n",
    "import numpy as np\n",
    "from sklearn.linear_model import Perceptron\n",
    "from sklearn.metrics import accuracy_score\n",
    "from sklearn.preprocessing import StandardScaler"
   ]
  },
  {
   "cell_type": "markdown",
   "id": "c2298d7a",
   "metadata": {},
   "source": [
    "1. Загрузите обучающую и тестовую выборки из файлов perceptron-train.csv и perceptron-test.csv. Целевая переменная записана в первом столбце, признаки — во втором и третьем."
   ]
  },
  {
   "cell_type": "code",
   "execution_count": 16,
   "id": "6f200b31",
   "metadata": {},
   "outputs": [
    {
     "data": {
      "text/html": [
       "<div>\n",
       "<style scoped>\n",
       "    .dataframe tbody tr th:only-of-type {\n",
       "        vertical-align: middle;\n",
       "    }\n",
       "\n",
       "    .dataframe tbody tr th {\n",
       "        vertical-align: top;\n",
       "    }\n",
       "\n",
       "    .dataframe thead th {\n",
       "        text-align: right;\n",
       "    }\n",
       "</style>\n",
       "<table border=\"1\" class=\"dataframe\">\n",
       "  <thead>\n",
       "    <tr style=\"text-align: right;\">\n",
       "      <th></th>\n",
       "      <th>0</th>\n",
       "      <th>1</th>\n",
       "      <th>2</th>\n",
       "    </tr>\n",
       "  </thead>\n",
       "  <tbody>\n",
       "    <tr>\n",
       "      <th>0</th>\n",
       "      <td>-1.0</td>\n",
       "      <td>-0.024626</td>\n",
       "      <td>1174.600238</td>\n",
       "    </tr>\n",
       "    <tr>\n",
       "      <th>1</th>\n",
       "      <td>1.0</td>\n",
       "      <td>-0.978058</td>\n",
       "      <td>1083.198803</td>\n",
       "    </tr>\n",
       "    <tr>\n",
       "      <th>2</th>\n",
       "      <td>-1.0</td>\n",
       "      <td>0.314272</td>\n",
       "      <td>-1472.977609</td>\n",
       "    </tr>\n",
       "    <tr>\n",
       "      <th>3</th>\n",
       "      <td>-1.0</td>\n",
       "      <td>0.179752</td>\n",
       "      <td>231.017267</td>\n",
       "    </tr>\n",
       "    <tr>\n",
       "      <th>4</th>\n",
       "      <td>1.0</td>\n",
       "      <td>-1.262544</td>\n",
       "      <td>-778.271726</td>\n",
       "    </tr>\n",
       "    <tr>\n",
       "      <th>...</th>\n",
       "      <td>...</td>\n",
       "      <td>...</td>\n",
       "      <td>...</td>\n",
       "    </tr>\n",
       "    <tr>\n",
       "      <th>295</th>\n",
       "      <td>-1.0</td>\n",
       "      <td>-0.126438</td>\n",
       "      <td>1861.564124</td>\n",
       "    </tr>\n",
       "    <tr>\n",
       "      <th>296</th>\n",
       "      <td>-1.0</td>\n",
       "      <td>-0.490972</td>\n",
       "      <td>1815.652064</td>\n",
       "    </tr>\n",
       "    <tr>\n",
       "      <th>297</th>\n",
       "      <td>1.0</td>\n",
       "      <td>-0.375750</td>\n",
       "      <td>-314.074374</td>\n",
       "    </tr>\n",
       "    <tr>\n",
       "      <th>298</th>\n",
       "      <td>1.0</td>\n",
       "      <td>-1.861976</td>\n",
       "      <td>-1083.677679</td>\n",
       "    </tr>\n",
       "    <tr>\n",
       "      <th>299</th>\n",
       "      <td>1.0</td>\n",
       "      <td>-0.039329</td>\n",
       "      <td>-1863.884299</td>\n",
       "    </tr>\n",
       "  </tbody>\n",
       "</table>\n",
       "<p>300 rows × 3 columns</p>\n",
       "</div>"
      ],
      "text/plain": [
       "       0         1            2\n",
       "0   -1.0 -0.024626  1174.600238\n",
       "1    1.0 -0.978058  1083.198803\n",
       "2   -1.0  0.314272 -1472.977609\n",
       "3   -1.0  0.179752   231.017267\n",
       "4    1.0 -1.262544  -778.271726\n",
       "..   ...       ...          ...\n",
       "295 -1.0 -0.126438  1861.564124\n",
       "296 -1.0 -0.490972  1815.652064\n",
       "297  1.0 -0.375750  -314.074374\n",
       "298  1.0 -1.861976 -1083.677679\n",
       "299  1.0 -0.039329 -1863.884299\n",
       "\n",
       "[300 rows x 3 columns]"
      ]
     },
     "execution_count": 16,
     "metadata": {},
     "output_type": "execute_result"
    }
   ],
   "source": [
    "perceptron_train = pd.read_csv('perceptron-train.csv', index_col=None, header=None)\n",
    "perceptron_test = pd.read_csv('perceptron-test.csv', index_col=None, header=None)\n",
    "perceptron_train"
   ]
  },
  {
   "cell_type": "markdown",
   "id": "60c3b8a8",
   "metadata": {},
   "source": [
    "2. Обучите персептрон со стандартными параметрами и random_state=241."
   ]
  },
  {
   "cell_type": "code",
   "execution_count": 25,
   "id": "c9c79b9c",
   "metadata": {},
   "outputs": [
    {
     "data": {
      "text/plain": [
       "Perceptron(random_state=241)"
      ]
     },
     "execution_count": 25,
     "metadata": {},
     "output_type": "execute_result"
    }
   ],
   "source": [
    "X_train, y_train = perceptron_train.loc[:, 1:], perceptron_train[0]\n",
    "X_test, y_test = perceptron_test.loc[:, 1:], perceptron_test[0]\n",
    "\n",
    "clf = Perceptron(random_state=241)\n",
    "clf.fit(X_train, y_train)"
   ]
  },
  {
   "cell_type": "markdown",
   "id": "c7d7bad5",
   "metadata": {},
   "source": [
    "3. Подсчитайте качество (долю правильно классифицированных объектов, accuracy) полученного классификатора на тестовой выборке."
   ]
  },
  {
   "cell_type": "code",
   "execution_count": 26,
   "id": "ea753e8b",
   "metadata": {},
   "outputs": [
    {
     "data": {
      "text/plain": [
       "0.655"
      ]
     },
     "execution_count": 26,
     "metadata": {},
     "output_type": "execute_result"
    }
   ],
   "source": [
    "predictions = clf.predict(X_test)\n",
    "accuracy_score(y_test, predictions, normalize=True)"
   ]
  },
  {
   "cell_type": "markdown",
   "id": "d54438cc",
   "metadata": {},
   "source": [
    "4. Нормализуйте обучающую и тестовую выборку с помощью класса StandardScaler. "
   ]
  },
  {
   "cell_type": "code",
   "execution_count": 28,
   "id": "1ee4d10e",
   "metadata": {},
   "outputs": [],
   "source": [
    "scaler = StandardScaler()\n",
    "X_train_scaled = scaler.fit_transform(X_train)\n",
    "X_test_scaled = scaler.transform(X_test)"
   ]
  },
  {
   "cell_type": "markdown",
   "id": "5b8c1484",
   "metadata": {},
   "source": [
    "5. Обучите персептрон на новой выборке. Найдите долю правильных ответов на тестовой выборке."
   ]
  },
  {
   "cell_type": "code",
   "execution_count": 37,
   "id": "992ba26b",
   "metadata": {},
   "outputs": [
    {
     "data": {
      "text/plain": [
       "0.845"
      ]
     },
     "execution_count": 37,
     "metadata": {},
     "output_type": "execute_result"
    }
   ],
   "source": [
    "model = Perceptron()\n",
    "model.fit(X_train_scaled, y_train)\n",
    "accuracy_score(y_test,model.predict(X_test_scaled))"
   ]
  },
  {
   "cell_type": "markdown",
   "id": "22896156",
   "metadata": {},
   "source": [
    "7. Найдите разность между качеством на тестовой выборке после нормализации и качеством до нее. Это число и будет ответом на задание."
   ]
  },
  {
   "cell_type": "code",
   "execution_count": 39,
   "id": "1800343d",
   "metadata": {},
   "outputs": [
    {
     "data": {
      "text/plain": [
       "0.19"
      ]
     },
     "execution_count": 39,
     "metadata": {},
     "output_type": "execute_result"
    }
   ],
   "source": [
    "round(0.845-0.655, 3)"
   ]
  }
 ],
 "metadata": {
  "kernelspec": {
   "display_name": "Python 3",
   "language": "python",
   "name": "python3"
  },
  "language_info": {
   "codemirror_mode": {
    "name": "ipython",
    "version": 3
   },
   "file_extension": ".py",
   "mimetype": "text/x-python",
   "name": "python",
   "nbconvert_exporter": "python",
   "pygments_lexer": "ipython3",
   "version": "3.8.8"
  }
 },
 "nbformat": 4,
 "nbformat_minor": 5
}
