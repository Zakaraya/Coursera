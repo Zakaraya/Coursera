{
 "cells": [
  {
   "cell_type": "code",
   "execution_count": 1,
   "id": "e682b7a4",
   "metadata": {},
   "outputs": [],
   "source": [
    "import re\n",
    "import numpy\n",
    "from scipy.spatial import distance"
   ]
  },
  {
   "cell_type": "code",
   "execution_count": 2,
   "id": "e48226d4",
   "metadata": {},
   "outputs": [],
   "source": [
    "uniq_words = {}\n",
    "all_words = []\n",
    "index = 0"
   ]
  },
  {
   "cell_type": "code",
   "execution_count": 3,
   "id": "b1426973",
   "metadata": {},
   "outputs": [
    {
     "name": "stdout",
     "output_type": "stream",
     "text": [
      "[0, 6, 4, 21, 10, 12, 16, 20, 2, 13, 14, 11, 8, 19, 3, 9, 7, 5, 15, 18, 1, 17]\n"
     ]
    }
   ],
   "source": [
    "with open('sentences.txt') as sentences:\n",
    "    lines_count = sum(1 for _ in sentences)\n",
    "    sentences.seek(0)\n",
    "\n",
    "    for line in sentences:\n",
    "        line = re.split('[^a-z]', line.lower())\n",
    "        line = [i for i in line if i]\n",
    "        all_words.append(line)\n",
    "        for word in line:\n",
    "            if word not in uniq_words.values():\n",
    "                uniq_words[index] = word\n",
    "                index += 1\n",
    "    uniq_words_count = len(uniq_words)\n",
    "    matrix = numpy.zeros((lines_count, uniq_words_count))\n",
    "    for i in range(lines_count):\n",
    "        for j in range(uniq_words_count):\n",
    "            matrix[i][j] = all_words[i].count(uniq_words[j])\n",
    "    cos_value = {}\n",
    "    for i in range(lines_count):\n",
    "        cos_value[i] = distance.cosine(matrix[0], matrix[i])\n",
    "    print(sorted(cos_value, key=cos_value.get))"
   ]
  }
 ],
 "metadata": {
  "kernelspec": {
   "display_name": "Python 3",
   "language": "python",
   "name": "python3"
  },
  "language_info": {
   "codemirror_mode": {
    "name": "ipython",
    "version": 3
   },
   "file_extension": ".py",
   "mimetype": "text/x-python",
   "name": "python",
   "nbconvert_exporter": "python",
   "pygments_lexer": "ipython3",
   "version": "3.8.8"
  }
 },
 "nbformat": 4,
 "nbformat_minor": 5
}
